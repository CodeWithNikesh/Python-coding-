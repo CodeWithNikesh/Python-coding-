{
 "cells": [
  {
   "cell_type": "markdown",
   "metadata": {},
   "source": [
    "### Extract the domain from an email address."
   ]
  },
  {
   "cell_type": "code",
   "execution_count": 61,
   "metadata": {},
   "outputs": [
    {
     "data": {
      "text/plain": [
       "'nikesh.com'"
      ]
     },
     "execution_count": 61,
     "metadata": {},
     "output_type": "execute_result"
    }
   ],
   "source": [
    "def extract_domain(email):\n",
    "    domain = ''\n",
    "    for i in range(len(email)):\n",
    "        if email[i]== '@':\n",
    "            domain = email[i+1:]\n",
    "            break\n",
    "    return domain\n",
    "extract_domain('user@nikesh.com')"
   ]
  },
  {
   "cell_type": "markdown",
   "metadata": {},
   "source": [
    "Find the length of the longest word in a sentence."
   ]
  },
  {
   "cell_type": "code",
   "execution_count": 3,
   "metadata": {},
   "outputs": [
    {
     "data": {
      "text/plain": [
       "7"
      ]
     },
     "execution_count": 3,
     "metadata": {},
     "output_type": "execute_result"
    }
   ],
   "source": [
    "def longest_word(text):\n",
    "    words = text.split()\n",
    "    max_length = 0\n",
    "\n",
    "    for word in words:\n",
    "        if len(word) > max_length:\n",
    "            max_length = len(word)\n",
    "    return max_length\n",
    "\n",
    "longest_word('hi good morning')"
   ]
  },
  {
   "cell_type": "markdown",
   "metadata": {},
   "source": [
    "### Capitalize the first letter of each word without using title()."
   ]
  },
  {
   "cell_type": "code",
   "execution_count": 66,
   "metadata": {},
   "outputs": [
    {
     "data": {
      "text/plain": [
       "'Nikesh Singh'"
      ]
     },
     "execution_count": 66,
     "metadata": {},
     "output_type": "execute_result"
    }
   ],
   "source": [
    "def title(text):\n",
    "    return ' '.join(char[0].upper()+char[1:] for char in text.split())\n",
    "\n",
    "title('nikesh singh')"
   ]
  },
  {
   "cell_type": "markdown",
   "metadata": {},
   "source": [
    "### Remove specific characters from a string."
   ]
  },
  {
   "cell_type": "code",
   "execution_count": 67,
   "metadata": {},
   "outputs": [
    {
     "data": {
      "text/plain": [
       "'ikesh sigh'"
      ]
     },
     "execution_count": 67,
     "metadata": {},
     "output_type": "execute_result"
    }
   ],
   "source": [
    "def remove_char_from_words(text,word_to_remove):\n",
    "    result = ''\n",
    "    for char in text:\n",
    "        if char not in word_to_remove:\n",
    "            result += char\n",
    "    return result\n",
    "\n",
    "remove_char_from_words('nikesh singh','n')"
   ]
  },
  {
   "cell_type": "markdown",
   "metadata": {},
   "source": [
    "Count the number of spaces in a string."
   ]
  },
  {
   "cell_type": "code",
   "execution_count": 4,
   "metadata": {},
   "outputs": [
    {
     "data": {
      "text/plain": [
       "2"
      ]
     },
     "execution_count": 4,
     "metadata": {},
     "output_type": "execute_result"
    }
   ],
   "source": [
    "def count_space(text):\n",
    "    space = 0\n",
    "    for i in text:\n",
    "        if i == ' ':\n",
    "            space +=1\n",
    "    return space\n",
    "\n",
    "count_space('hello good morning')"
   ]
  },
  {
   "cell_type": "markdown",
   "metadata": {},
   "source": [
    "Convert all consonants to uppercase."
   ]
  },
  {
   "cell_type": "code",
   "execution_count": 6,
   "metadata": {},
   "outputs": [
    {
     "data": {
      "text/plain": [
       "'HeLLo GooD MoRNiNG'"
      ]
     },
     "execution_count": 6,
     "metadata": {},
     "output_type": "execute_result"
    }
   ],
   "source": [
    "def convert_consonants_upper(text):\n",
    "    result = ''\n",
    "\n",
    "    for char in text: \n",
    "        if char.lower() not in 'aeiou':\n",
    "            result += char.upper()\n",
    "        else:\n",
    "            result += char\n",
    "    return result\n",
    "\n",
    "convert_consonants_upper('hello good morning')"
   ]
  },
  {
   "cell_type": "markdown",
   "metadata": {},
   "source": [
    " Insert dashes between each character in a string."
   ]
  },
  {
   "cell_type": "code",
   "execution_count": 9,
   "metadata": {},
   "outputs": [
    {
     "data": {
      "text/plain": [
       "'N-i-k-e-s-h'"
      ]
     },
     "execution_count": 9,
     "metadata": {},
     "output_type": "execute_result"
    }
   ],
   "source": [
    "def dashes_between_each_char(text):\n",
    "    result = ''\n",
    "    for i in range(len(text)):\n",
    "        result += text[i]\n",
    "        if i != len(text) -1:\n",
    "            result += '-'\n",
    "    return result\n",
    "dashes_between_each_char('Nikesh')"
   ]
  },
  {
   "cell_type": "markdown",
   "metadata": {},
   "source": [
    "Find the longest substring without repeating characters."
   ]
  },
  {
   "cell_type": "code",
   "execution_count": 10,
   "metadata": {},
   "outputs": [
    {
     "data": {
      "text/plain": [
       "'abc'"
      ]
     },
     "execution_count": 10,
     "metadata": {},
     "output_type": "execute_result"
    }
   ],
   "source": [
    "def long_sub_without_repeat(text):\n",
    "    longest =''\n",
    "    current = ''\n",
    "\n",
    "    for char in text:\n",
    "        if char not in current:\n",
    "            current += char\n",
    "        else:\n",
    "            if len(current) > len(longest):\n",
    "                longest = current\n",
    "            current = char\n",
    "    if len(current) > len(longest):\n",
    "        longest = current\n",
    "    return longest\n",
    "\n",
    "long_sub_without_repeat('abcabcbb')\n"
   ]
  },
  {
   "cell_type": "markdown",
   "metadata": {},
   "source": [
    "### Check if a string contains only ASCII characters."
   ]
  },
  {
   "cell_type": "code",
   "execution_count": 20,
   "metadata": {},
   "outputs": [
    {
     "data": {
      "text/plain": [
       "True"
      ]
     },
     "execution_count": 20,
     "metadata": {},
     "output_type": "execute_result"
    }
   ],
   "source": [
    "def check_ascii(text):\n",
    "    is_ascii = True\n",
    "    for char in text:\n",
    "        if ord(char) > 127:\n",
    "            is_ascii =False\n",
    "            break\n",
    "    return is_ascii\n",
    "\n",
    "check_ascii('Hello Nikesh')\n",
    "\n",
    "# alternative way-----------------------------\n",
    "\n",
    "def check_ascii(text):\n",
    "    return all(ord(char) < 127 for char in text)\n",
    "check_ascii('Hello Nikesh')"
   ]
  },
  {
   "cell_type": "markdown",
   "metadata": {},
   "source": [
    "### Reverse words in a string."
   ]
  },
  {
   "cell_type": "code",
   "execution_count": 19,
   "metadata": {},
   "outputs": [
    {
     "data": {
      "text/plain": [
       "'nikesh singh'"
      ]
     },
     "execution_count": 19,
     "metadata": {},
     "output_type": "execute_result"
    }
   ],
   "source": [
    "def reverse_words(text):\n",
    "    words = text.split()\n",
    "    result = ''\n",
    "\n",
    "    for i in range(len(words)-1,-1,-1):\n",
    "        result +=words[i] + ' '\n",
    "    return result\n",
    "reverse_words('nikesh singh ')\n",
    "\n",
    "# alternative way------------------------\n",
    "\n",
    "def reverse_words(text):\n",
    "    return ' '.join(text.split()[::-1])\n",
    "\n",
    "reverse_words('singh nikesh')"
   ]
  },
  {
   "cell_type": "markdown",
   "metadata": {},
   "source": [
    "### Count the number of words in a string."
   ]
  },
  {
   "cell_type": "code",
   "execution_count": 23,
   "metadata": {},
   "outputs": [
    {
     "data": {
      "text/plain": [
       "2"
      ]
     },
     "execution_count": 23,
     "metadata": {},
     "output_type": "execute_result"
    }
   ],
   "source": [
    "def count_number_words(text):\n",
    "    count = 0\n",
    "    for word in text.split():\n",
    "        count +=1\n",
    "    return count\n",
    "\n",
    "count_number_words('Hello Nikesh how are you')\n",
    "\n",
    "# smart way to get the same output------------\n",
    "\n",
    "def count_number_words(text):\n",
    "    return len(text.split())\n",
    "\n",
    "count_number_words('Hello Nikesh')"
   ]
  },
  {
   "cell_type": "markdown",
   "metadata": {},
   "source": [
    "### Find the longest repeating character sequence."
   ]
  },
  {
   "cell_type": "code",
   "execution_count": 25,
   "metadata": {},
   "outputs": [
    {
     "data": {
      "text/plain": [
       "6"
      ]
     },
     "execution_count": 25,
     "metadata": {},
     "output_type": "execute_result"
    }
   ],
   "source": [
    "def long_rept_char_sequence(text):\n",
    "    max_count = 0\n",
    "    current_count = 1\n",
    "\n",
    "    for i in range(1,len(text)):\n",
    "        if text[i] == text[i-1]:\n",
    "            current_count +=1\n",
    "        else:\n",
    "            if current_count > max_count:\n",
    "                max_count = current_count\n",
    "            current_count = 1\n",
    "\n",
    "    if current_count > max_count:\n",
    "        max_count = current_count\n",
    "    return max_count\n",
    "\n",
    "long_rept_char_sequence('aaabbccccddddddeeee')"
   ]
  },
  {
   "cell_type": "markdown",
   "metadata": {},
   "source": [
    "### Remove all punctuation from a string."
   ]
  },
  {
   "cell_type": "code",
   "execution_count": 27,
   "metadata": {},
   "outputs": [
    {
     "data": {
      "text/plain": [
       "'Hello Nikesh'"
      ]
     },
     "execution_count": 27,
     "metadata": {},
     "output_type": "execute_result"
    }
   ],
   "source": [
    "def remove_punc(text):\n",
    "    result =''\n",
    "    for char in text:\n",
    "        if char.isalnum() or char == ' ':\n",
    "            result += char\n",
    "    return result\n",
    "remove_punc(\"Hello, Nikesh!\")\n",
    "\n",
    "# smart way to get the same output------------\n",
    "\n",
    "def remove_punc(text):\n",
    "    return ''.join(char for char in text if char.isalnum() or char ==' ')\n",
    "remove_punc(\"Hello, Nikesh!\")"
   ]
  },
  {
   "cell_type": "markdown",
   "metadata": {},
   "source": [
    "### Count the occurrences of each word in a string."
   ]
  },
  {
   "cell_type": "code",
   "execution_count": 31,
   "metadata": {},
   "outputs": [
    {
     "data": {
      "text/plain": [
       "{'test': 2, 'this': 2, 'is': 2, 'a': 2, 'only': 1}"
      ]
     },
     "execution_count": 31,
     "metadata": {},
     "output_type": "execute_result"
    }
   ],
   "source": [
    "def count_words(text):\n",
    "    word_count ={}\n",
    "    words = text.split()\n",
    "\n",
    "    for word in words:\n",
    "        if word in word_count:\n",
    "            word_count[word]  += 1\n",
    "        else:\n",
    "            word_count[word] =1\n",
    "    return word_count\n",
    "\n",
    "count_words(\"this is a test this is only a test\")\n",
    "\n",
    "# smart way to get the same output------------\n",
    "def count_words(text):\n",
    "    return {word: text.split().count(word) for word in set(text.split())}\n",
    "\n",
    "count_words(\"this is a test this is only a test\")\n",
    "\n"
   ]
  },
  {
   "cell_type": "markdown",
   "metadata": {},
   "source": [
    "### Remove duplicate words from a string."
   ]
  },
  {
   "cell_type": "code",
   "execution_count": 35,
   "metadata": {},
   "outputs": [
    {
     "data": {
      "text/plain": [
       "'hello nikesh'"
      ]
     },
     "execution_count": 35,
     "metadata": {},
     "output_type": "execute_result"
    }
   ],
   "source": [
    "def remove_duplicate(text):\n",
    "    word = text.split()\n",
    "    result = []\n",
    "    seen = set()\n",
    "\n",
    "    for i in word:\n",
    "        if i not in seen:\n",
    "            result.append(i)\n",
    "            seen.add(i)\n",
    "    return ' '.join(result)\n",
    "\n",
    "remove_duplicate('hello nikesh hello nikesh')\n",
    "\n",
    "# smart way to get the same output------------\n",
    "\n",
    "def remove_duplicate(text):\n",
    "    return ' '.join(dict.fromkeys(text.split()))\n",
    "remove_duplicate('hello nikesh hello nikesh')"
   ]
  },
  {
   "cell_type": "markdown",
   "metadata": {},
   "source": [
    "###  Reverse each word in a string."
   ]
  },
  {
   "cell_type": "code",
   "execution_count": 38,
   "metadata": {},
   "outputs": [
    {
     "data": {
      "text/plain": [
       "'hsekiN ramuk hgnis'"
      ]
     },
     "execution_count": 38,
     "metadata": {},
     "output_type": "execute_result"
    }
   ],
   "source": [
    "def reverse_each_words(text):\n",
    "    result = ''\n",
    "    words = text.split()\n",
    "    for word in words:\n",
    "        result += word[::-1] + ' '\n",
    "    return result\n",
    "\n",
    "# smart way to get the same output------------\n",
    "\n",
    "def reverse_each_words(text):\n",
    "    return ' '.join(word[::-1] for word in text.split())\n",
    "\n",
    "reverse_each_words('Nikesh kumar singh')"
   ]
  },
  {
   "cell_type": "markdown",
   "metadata": {},
   "source": [
    "### Check if a string is a palindrome (ignoring spaces)."
   ]
  },
  {
   "cell_type": "code",
   "execution_count": 45,
   "metadata": {},
   "outputs": [
    {
     "data": {
      "text/plain": [
       "True"
      ]
     },
     "execution_count": 45,
     "metadata": {},
     "output_type": "execute_result"
    }
   ],
   "source": [
    "def check_palindrome(text):\n",
    "    clean = ''\n",
    "    for char in text:\n",
    "        if char.isalnum():\n",
    "         clean +=char.lower()\n",
    "    return clean == clean[::-1]\n",
    "check_palindrome(\"madam in eden im adam\")"
   ]
  },
  {
   "cell_type": "markdown",
   "metadata": {},
   "source": [
    "### Convert lowercase vowels to uppercase."
   ]
  },
  {
   "cell_type": "code",
   "execution_count": 51,
   "metadata": {},
   "outputs": [
    {
     "data": {
      "text/plain": [
       "'nIkEsh sIngh'"
      ]
     },
     "execution_count": 51,
     "metadata": {},
     "output_type": "execute_result"
    }
   ],
   "source": [
    "def lower_case_vowels_to_upper(text):\n",
    "    words = text\n",
    "    result = ''\n",
    "    for char in words:\n",
    "        if char in 'aeiou':\n",
    "            result += char.upper()\n",
    "        else:\n",
    "            result += char\n",
    "    return result\n",
    "\n",
    "lower_case_vowels_to_upper('nikesh singh')\n",
    "\n",
    "# smart way to get the same output------------\n",
    "\n",
    "def lower_case_vowels_to_upper(text):\n",
    "    return ''.join(char.upper() if char in 'aeiou' else char for char in text)\n",
    "\n",
    "lower_case_vowels_to_upper('nikesh singh')"
   ]
  },
  {
   "cell_type": "markdown",
   "metadata": {},
   "source": [
    "### Find the first non-repeating character in a string."
   ]
  },
  {
   "cell_type": "code",
   "execution_count": 58,
   "metadata": {},
   "outputs": [
    {
     "data": {
      "text/plain": [
       "'i'"
      ]
     },
     "execution_count": 58,
     "metadata": {},
     "output_type": "execute_result"
    }
   ],
   "source": [
    "def non_rept_char(text):\n",
    "    result = None\n",
    "\n",
    "    for char in text:\n",
    "        if text.count(char) ==1:\n",
    "            return char\n",
    "    return None\n",
    "\n",
    "non_rept_char('swiws')\n"
   ]
  },
  {
   "cell_type": "markdown",
   "metadata": {},
   "source": [
    "### Calculate the frequency of vowels in a string."
   ]
  },
  {
   "cell_type": "code",
   "execution_count": 59,
   "metadata": {},
   "outputs": [
    {
     "data": {
      "text/plain": [
       "{'i': 2, 'e': 1}"
      ]
     },
     "execution_count": 59,
     "metadata": {},
     "output_type": "execute_result"
    }
   ],
   "source": [
    "def count_vowels(text):\n",
    "    return {char: text.count(char) for char in text if char.lower() in 'aeiou' }\n",
    "\n",
    "count_vowels('Nikesh singh')"
   ]
  }
 ],
 "metadata": {
  "kernelspec": {
   "display_name": "Python 3",
   "language": "python",
   "name": "python3"
  },
  "language_info": {
   "codemirror_mode": {
    "name": "ipython",
    "version": 3
   },
   "file_extension": ".py",
   "mimetype": "text/x-python",
   "name": "python",
   "nbconvert_exporter": "python",
   "pygments_lexer": "ipython3",
   "version": "3.13.0"
  }
 },
 "nbformat": 4,
 "nbformat_minor": 2
}
